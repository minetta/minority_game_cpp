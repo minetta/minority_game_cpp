{
 "cells": [
  {
   "cell_type": "code",
   "execution_count": 5,
   "metadata": {},
   "outputs": [],
   "source": [
    "%matplotlib inline\n",
    "\n",
    "import numpy as np\n",
    "import matplotlib.pyplot as plt\n",
    "from IPython import display"
   ]
  },
  {
   "cell_type": "code",
   "execution_count": 34,
   "metadata": {},
   "outputs": [],
   "source": [
    "class Agent:\n",
    "    def __init__(self, memory_size=2, n_strategies=2, n_actions=2):\n",
    "        self.memory_size = memory_size\n",
    "        self.n_strategies = n_strategies\n",
    "        \n",
    "        self.strategies = np.random.randint(0, n_actions, (n_strategies, 2**memory_size))\n",
    "        self.scores = np.zeros(n_strategies)\n",
    "    \n",
    "    def choose_action(self, b_history):\n",
    "        history = self.decimalize_history(b_history)\n",
    "        eps = np.random.uniform(0, 1, self.n_strategies)\n",
    "        return self.strategies[np.argmax(self.scores + eps), history]\n",
    "    \n",
    "    def update_scores(self, new_state, b_history):\n",
    "        history = self.decimalize_history(b_history)\n",
    "        updates = (self.strategies[:, history] == new_state).astype('int32')*2 - 1\n",
    "        self.scores += updates\n",
    "    \n",
    "    def decimalize_history(self, b_history):\n",
    "        return np.sum([state*(2**i) for i, state in enumerate(reversed(b_history))])"
   ]
  },
  {
   "cell_type": "code",
   "execution_count": 35,
   "metadata": {
    "scrolled": true
   },
   "outputs": [
    {
     "data": {
      "image/png": "[encoded data removed]",
      "text/plain": [
       "<matplotlib.figure.Figure at 0x11c41d2e8>"
      ]
     },
     "metadata": {},
     "output_type": "display_data"
    }
   ],
   "source": [
    "np.random.seed(34)\n",
    "\n",
    "MEMORY_SIZE  = 4\n",
    "N_STRATEGIES = 8\n",
    "N_AGENTS     = 1001\n",
    "N_TIMESTEPS  = 1000\n",
    "\n",
    "b_history = np.random.randint(0, 2, MEMORY_SIZE) # [1,0,0]\n",
    "\n",
    "agents = [Agent(MEMORY_SIZE, N_STRATEGIES) for i in range(N_AGENTS)]\n",
    "attendance_history = []\n",
    "\n",
    "for t in range(N_TIMESTEPS):\n",
    "    try:\n",
    "        actions   = [agent.choose_action(b_history) for agent in agents]\n",
    "        new_state = int(np.sum(actions) < N_AGENTS/2) # 0 or 1\n",
    "        attendance_history.append(np.sum(actions))\n",
    "\n",
    "        for agent in agents:\n",
    "            agent.update_scores(new_state, b_history)\n",
    "\n",
    "        b_history = np.append(b_history, new_state)[-MEMORY_SIZE:]\n",
    "\n",
    "        plt.plot(np.arange(t+1), attendance_history, color='black')\n",
    "        plt.xlabel('Time steps')\n",
    "        plt.ylabel('Number of attendees')\n",
    "        plt.xlim(0, t)\n",
    "        plt.ylim(0, N_AGENTS)\n",
    "        display.display(plt.gcf())\n",
    "        display.clear_output(wait=True)\n",
    "    except KeyboardInterrupt:\n",
    "        break"
   ]
  },
  {
   "cell_type": "code",
   "execution_count": null,
   "metadata": {},
   "outputs": [],
   "source": []
  }
 ],
 "metadata": {
  "kernelspec": {
   "display_name": "Python 3",
   "language": "python",
   "name": "python3"
  },
  "language_info": {
   "codemirror_mode": {
    "name": "ipython",
    "version": 3
   },
   "file_extension": ".py",
   "mimetype": "text/x-python",
   "name": "python",
   "nbconvert_exporter": "python",
   "pygments_lexer": "ipython3",
   "version": "3.6.3"
  }
 },
 "nbformat": 4,
 "nbformat_minor": 2
}
