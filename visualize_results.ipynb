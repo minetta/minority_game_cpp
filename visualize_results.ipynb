{
 "cells": [
  {
   "cell_type": "code",
   "execution_count": 4,
   "metadata": {},
   "outputs": [],
   "source": [
    "%matplotlib inline\n",
    "\n",
    "import os\n",
    "\n",
    "import numpy as np\n",
    "import seaborn as sns\n",
    "import matplotlib.pyplot as plt"
   ]
  },
  {
   "cell_type": "code",
   "execution_count": 5,
   "metadata": {},
   "outputs": [],
   "source": [
    "RESUIT_DIR = \"results/m9_s2_nagents101_niters10000_nruns32/\"\n",
    "\n",
    "N_AGENTS = 1001\n",
    "N_ITERS = 10000"
   ]
  },
  {
   "cell_type": "markdown",
   "metadata": {},
   "source": [
    "## 1. Load data"
   ]
  },
  {
   "cell_type": "code",
   "execution_count": 12,
   "metadata": {},
   "outputs": [],
   "source": [
    "RESULT_DIR = 'results'\n",
    "\n",
    "s = 2\n",
    "n_agents = 101\n",
    "n_iters = 10000\n",
    "n_runs = 32\n",
    "\n",
    "for m in np.arange(2, 10):\n",
    "    path = 'm%d_s%d_nagents%d_niters%d_nruns%d' % (m, s, n_agents, n_iters, n_runs)"
   ]
  },
  {
   "cell_type": "code",
   "execution_count": null,
   "metadata": {},
   "outputs": [],
   "source": []
  },
  {
   "cell_type": "markdown",
   "metadata": {},
   "source": [
    "### 1. Attendance"
   ]
  },
  {
   "cell_type": "code",
   "execution_count": 7,
   "metadata": {},
   "outputs": [],
   "source": [
    "data = np.fromstring(open(os.path.join(RESUIT_DIR, 'attendance_1.csv')).read().strip(), sep=',').astype('int32')"
   ]
  },
  {
   "cell_type": "markdown",
   "metadata": {},
   "source": [
    "#### 1.1 Distribution"
   ]
  },
  {
   "cell_type": "code",
   "execution_count": 8,
   "metadata": {
    "scrolled": false
   },
   "outputs": [
    {
     "data": {
      "image/png": "[encoded data removed]",
      "text/plain": [
       "<matplotlib.figure.Figure at 0x1a10c5bc88>"
      ]
     },
     "metadata": {},
     "output_type": "display_data"
    }
   ],
   "source": [
    "sns.distplot(data);"
   ]
  },
  {
   "cell_type": "markdown",
   "metadata": {},
   "source": [
    "#### 1.2 Standard deviation"
   ]
  },
  {
   "cell_type": "code",
   "execution_count": 85,
   "metadata": {},
   "outputs": [],
   "source": [
    "RESULT_DIR = 'results'\n",
    "\n",
    "s = 2\n",
    "n_agents = 101\n",
    "n_iters = 10000\n",
    "n_runs = 32\n",
    "\n",
    "x = []\n",
    "y = []\n",
    "\n",
    "for m in np.arange(2, 13):\n",
    "    for r in np.arange(n_runs):\n",
    "        data_dir = os.path.join(RESULT_DIR, 'm%d_s%d_nagents%d_niters%d_nruns%d' % (m, s, n_agents, n_iters, n_runs))\n",
    "        data = np.fromstring(open(os.path.join(data_dir, 'attendance_%d.csv' % r)).read().strip(), sep=',').astype('int32')\n",
    "    \n",
    "        x.append(2**m / n_agents)\n",
    "        y.append(np.var(data) / n_agents)\n",
    "\n",
    "x = np.array(x)\n",
    "y = np.array(y)"
   ]
  },
  {
   "cell_type": "code",
   "execution_count": 109,
   "metadata": {
    "scrolled": false
   },
   "outputs": [
    {
     "data": {
      "image/png": "[encoded data removed]",
      "text/plain": [
       "<matplotlib.figure.Figure at 0x1a10bc9f98>"
      ]
     },
     "metadata": {},
     "output_type": "display_data"
    }
   ],
   "source": [
    "fig = plt.figure(figsize=(10, 6))\n",
    "ax = fig.add_subplot(111)\n",
    "ax.scatter(x=x, y=y, marker='.')\n",
    "\n",
    "ax.set_xlabel(r'$^{2^m}/_N$')\n",
    "ax.set_ylabel(r'$^{\\sigma^2}/_N$')\n",
    "\n",
    "ax.set_xlim(0.01, 10000)\n",
    "\n",
    "ax.set(xscale='log', yscale='log')\n",
    "\n",
    "plt.show()"
   ]
  },
  {
   "cell_type": "markdown",
   "metadata": {},
   "source": [
    "### Success rate"
   ]
  },
  {
   "cell_type": "code",
   "execution_count": null,
   "metadata": {},
   "outputs": [],
   "source": [
    "data = np.fromstring(open('winning_histories_1.csv').read().strip(), sep=',').astype('int32').reshape(N_AGENTS, N_ITERS)"
   ]
  },
  {
   "cell_type": "code",
   "execution_count": null,
   "metadata": {},
   "outputs": [],
   "source": []
  },
  {
   "cell_type": "code",
   "execution_count": null,
   "metadata": {},
   "outputs": [],
   "source": []
  },
  {
   "cell_type": "code",
   "execution_count": null,
   "metadata": {},
   "outputs": [],
   "source": []
  }
 ],
 "metadata": {
  "kernelspec": {
   "display_name": "Python 3",
   "language": "python",
   "name": "python3"
  },
  "language_info": {
   "codemirror_mode": {
    "name": "ipython",
    "version": 3
   },
   "file_extension": ".py",
   "mimetype": "text/x-python",
   "name": "python",
   "nbconvert_exporter": "python",
   "pygments_lexer": "ipython3",
   "version": "3.6.4"
  }
 },
 "nbformat": 4,
 "nbformat_minor": 2
}
